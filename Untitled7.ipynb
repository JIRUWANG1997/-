{
  "nbformat": 4,
  "nbformat_minor": 0,
  "metadata": {
    "colab": {
      "name": "Untitled7.ipynb",
      "provenance": []
    },
    "kernelspec": {
      "name": "python3",
      "display_name": "Python 3"
    }
  },
  "cells": [
    {
      "cell_type": "code",
      "metadata": {
        "id": "9Dt97LuQECW7",
        "colab_type": "code",
        "colab": {}
      },
      "source": [
        "def load_embeddings1(path_list):\n",
        "    emb_idx = []\n",
        "    for path in path_list:\n",
        "        for line in open(path):\n",
        "            \n",
        "            emb_idx.append(line.strip().split(\" \")[0].lower())\n",
        "            print(emb_idx)\n",
        "    return list(set(emb_idx))"
      ],
      "execution_count": 1,
      "outputs": []
    }
  ]
}